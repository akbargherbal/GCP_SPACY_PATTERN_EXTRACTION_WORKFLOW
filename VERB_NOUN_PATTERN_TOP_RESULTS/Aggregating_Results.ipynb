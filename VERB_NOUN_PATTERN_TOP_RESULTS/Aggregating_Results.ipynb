{
 "cells": [
  {
   "cell_type": "code",
   "execution_count": 1,
   "id": "dedbdc79-b8fb-45e7-afbf-7bce5f9cd709",
   "metadata": {},
   "outputs": [],
   "source": [
    "import pandas as pd"
   ]
  },
  {
   "cell_type": "code",
   "execution_count": 2,
   "id": "76162fb9-b6d7-4d13-8720-2baa6808934e",
   "metadata": {},
   "outputs": [],
   "source": [
    "import regex as re"
   ]
  },
  {
   "cell_type": "code",
   "execution_count": 3,
   "id": "ca2c689e-5793-4cac-ac8a-7a4ebaa90a7b",
   "metadata": {},
   "outputs": [],
   "source": [
    "import os"
   ]
  },
  {
   "cell_type": "code",
   "execution_count": 9,
   "id": "dfa1b660-ba2e-4218-beb5-4a4e64dea0b7",
   "metadata": {},
   "outputs": [],
   "source": [
    "df01, df02, df03, df04 = pd.read_pickle(\"BATCH_01_VERB_NOUN_PAT_THINK_TANKS.pkl\"), pd.read_pickle(\"BATCH_02_VERB_NOUN_PAT_THINK_TANKS.pkl\"), pd.read_pickle(\"BATCH_03_VERB_NOUN_PAT_THINK_TANKS.pkl\"), pd.read_pickle(\"BATCH_04_VERB_NOUN_PAT_THINK_TANKS.pkl\")"
   ]
  },
  {
   "cell_type": "code",
   "execution_count": 10,
   "id": "c60dc338-7cc5-450b-a5fd-04ef94679991",
   "metadata": {},
   "outputs": [
    {
     "data": {
      "text/html": [
       "<div>\n",
       "<style scoped>\n",
       "    .dataframe tbody tr th:only-of-type {\n",
       "        vertical-align: middle;\n",
       "    }\n",
       "\n",
       "    .dataframe tbody tr th {\n",
       "        vertical-align: top;\n",
       "    }\n",
       "\n",
       "    .dataframe thead th {\n",
       "        text-align: right;\n",
       "    }\n",
       "</style>\n",
       "<table border=\"1\" class=\"dataframe\">\n",
       "  <thead>\n",
       "    <tr style=\"text-align: right;\">\n",
       "      <th></th>\n",
       "      <th>PAT_V_NAME</th>\n",
       "      <th>FREQ</th>\n",
       "    </tr>\n",
       "  </thead>\n",
       "  <tbody>\n",
       "    <tr>\n",
       "      <th>0</th>\n",
       "      <td>be a lot</td>\n",
       "      <td>2797</td>\n",
       "    </tr>\n",
       "    <tr>\n",
       "      <th>1</th>\n",
       "      <td>take place</td>\n",
       "      <td>1440</td>\n",
       "    </tr>\n",
       "    <tr>\n",
       "      <th>2</th>\n",
       "      <td>have a lot</td>\n",
       "      <td>1355</td>\n",
       "    </tr>\n",
       "    <tr>\n",
       "      <th>3</th>\n",
       "      <td>develop country</td>\n",
       "      <td>835</td>\n",
       "    </tr>\n",
       "    <tr>\n",
       "      <th>4</th>\n",
       "      <td>do a lot</td>\n",
       "      <td>744</td>\n",
       "    </tr>\n",
       "    <tr>\n",
       "      <th>...</th>\n",
       "      <td>...</td>\n",
       "      <td>...</td>\n",
       "    </tr>\n",
       "    <tr>\n",
       "      <th>8004</th>\n",
       "      <td>concert effort</td>\n",
       "      <td>7</td>\n",
       "    </tr>\n",
       "    <tr>\n",
       "      <th>8005</th>\n",
       "      <td>be no disagreement</td>\n",
       "      <td>7</td>\n",
       "    </tr>\n",
       "    <tr>\n",
       "      <th>8006</th>\n",
       "      <td>participate country</td>\n",
       "      <td>7</td>\n",
       "    </tr>\n",
       "    <tr>\n",
       "      <th>8007</th>\n",
       "      <td>see in other area</td>\n",
       "      <td>7</td>\n",
       "    </tr>\n",
       "    <tr>\n",
       "      <th>8008</th>\n",
       "      <td>get an understanding</td>\n",
       "      <td>7</td>\n",
       "    </tr>\n",
       "  </tbody>\n",
       "</table>\n",
       "<p>8009 rows × 2 columns</p>\n",
       "</div>"
      ],
      "text/plain": [
       "                PAT_V_NAME  FREQ\n",
       "0                 be a lot  2797\n",
       "1               take place  1440\n",
       "2               have a lot  1355\n",
       "3          develop country   835\n",
       "4                 do a lot   744\n",
       "...                    ...   ...\n",
       "8004        concert effort     7\n",
       "8005    be no disagreement     7\n",
       "8006   participate country     7\n",
       "8007     see in other area     7\n",
       "8008  get an understanding     7\n",
       "\n",
       "[8009 rows x 2 columns]"
      ]
     },
     "execution_count": 10,
     "metadata": {},
     "output_type": "execute_result"
    }
   ],
   "source": [
    "df01"
   ]
  },
  {
   "cell_type": "code",
   "execution_count": 11,
   "id": "7e8171b1-c882-4d1d-bd1c-9b9095173a08",
   "metadata": {},
   "outputs": [
    {
     "data": {
      "text/html": [
       "<div>\n",
       "<style scoped>\n",
       "    .dataframe tbody tr th:only-of-type {\n",
       "        vertical-align: middle;\n",
       "    }\n",
       "\n",
       "    .dataframe tbody tr th {\n",
       "        vertical-align: top;\n",
       "    }\n",
       "\n",
       "    .dataframe thead th {\n",
       "        text-align: right;\n",
       "    }\n",
       "</style>\n",
       "<table border=\"1\" class=\"dataframe\">\n",
       "  <thead>\n",
       "    <tr style=\"text-align: right;\">\n",
       "      <th></th>\n",
       "      <th>PAT_V_NAME</th>\n",
       "      <th>FREQ</th>\n",
       "    </tr>\n",
       "  </thead>\n",
       "  <tbody>\n",
       "    <tr>\n",
       "      <th>0</th>\n",
       "      <td>be a lot</td>\n",
       "      <td>2842</td>\n",
       "    </tr>\n",
       "    <tr>\n",
       "      <th>1</th>\n",
       "      <td>take place</td>\n",
       "      <td>1562</td>\n",
       "    </tr>\n",
       "    <tr>\n",
       "      <th>2</th>\n",
       "      <td>have a lot</td>\n",
       "      <td>1337</td>\n",
       "    </tr>\n",
       "    <tr>\n",
       "      <th>3</th>\n",
       "      <td>develop country</td>\n",
       "      <td>848</td>\n",
       "    </tr>\n",
       "    <tr>\n",
       "      <th>4</th>\n",
       "      <td>talk a little bit</td>\n",
       "      <td>692</td>\n",
       "    </tr>\n",
       "    <tr>\n",
       "      <th>...</th>\n",
       "      <td>...</td>\n",
       "      <td>...</td>\n",
       "    </tr>\n",
       "    <tr>\n",
       "      <th>7855</th>\n",
       "      <td>support human right</td>\n",
       "      <td>7</td>\n",
       "    </tr>\n",
       "    <tr>\n",
       "      <th>7856</th>\n",
       "      <td>make history</td>\n",
       "      <td>7</td>\n",
       "    </tr>\n",
       "    <tr>\n",
       "      <th>7857</th>\n",
       "      <td>serve as deputy</td>\n",
       "      <td>7</td>\n",
       "    </tr>\n",
       "    <tr>\n",
       "      <th>7858</th>\n",
       "      <td>have infection</td>\n",
       "      <td>7</td>\n",
       "    </tr>\n",
       "    <tr>\n",
       "      <th>7859</th>\n",
       "      <td>be an initiative</td>\n",
       "      <td>7</td>\n",
       "    </tr>\n",
       "  </tbody>\n",
       "</table>\n",
       "<p>7860 rows × 2 columns</p>\n",
       "</div>"
      ],
      "text/plain": [
       "               PAT_V_NAME  FREQ\n",
       "0                be a lot  2842\n",
       "1              take place  1562\n",
       "2              have a lot  1337\n",
       "3         develop country   848\n",
       "4       talk a little bit   692\n",
       "...                   ...   ...\n",
       "7855  support human right     7\n",
       "7856         make history     7\n",
       "7857      serve as deputy     7\n",
       "7858       have infection     7\n",
       "7859     be an initiative     7\n",
       "\n",
       "[7860 rows x 2 columns]"
      ]
     },
     "execution_count": 11,
     "metadata": {},
     "output_type": "execute_result"
    }
   ],
   "source": [
    "df02"
   ]
  },
  {
   "cell_type": "code",
   "execution_count": 12,
   "id": "b6314847-fc55-415b-a51a-56f2674eef1b",
   "metadata": {},
   "outputs": [
    {
     "data": {
      "text/html": [
       "<div>\n",
       "<style scoped>\n",
       "    .dataframe tbody tr th:only-of-type {\n",
       "        vertical-align: middle;\n",
       "    }\n",
       "\n",
       "    .dataframe tbody tr th {\n",
       "        vertical-align: top;\n",
       "    }\n",
       "\n",
       "    .dataframe thead th {\n",
       "        text-align: right;\n",
       "    }\n",
       "</style>\n",
       "<table border=\"1\" class=\"dataframe\">\n",
       "  <thead>\n",
       "    <tr style=\"text-align: right;\">\n",
       "      <th></th>\n",
       "      <th>PAT_V_NAME</th>\n",
       "      <th>FREQ</th>\n",
       "    </tr>\n",
       "  </thead>\n",
       "  <tbody>\n",
       "    <tr>\n",
       "      <th>0</th>\n",
       "      <td>be a lot</td>\n",
       "      <td>2842</td>\n",
       "    </tr>\n",
       "    <tr>\n",
       "      <th>1</th>\n",
       "      <td>take place</td>\n",
       "      <td>1541</td>\n",
       "    </tr>\n",
       "    <tr>\n",
       "      <th>2</th>\n",
       "      <td>have a lot</td>\n",
       "      <td>1336</td>\n",
       "    </tr>\n",
       "    <tr>\n",
       "      <th>3</th>\n",
       "      <td>develop country</td>\n",
       "      <td>839</td>\n",
       "    </tr>\n",
       "    <tr>\n",
       "      <th>4</th>\n",
       "      <td>do a lot</td>\n",
       "      <td>732</td>\n",
       "    </tr>\n",
       "    <tr>\n",
       "      <th>...</th>\n",
       "      <td>...</td>\n",
       "      <td>...</td>\n",
       "    </tr>\n",
       "    <tr>\n",
       "      <th>8002</th>\n",
       "      <td>increase trust</td>\n",
       "      <td>7</td>\n",
       "    </tr>\n",
       "    <tr>\n",
       "      <th>8003</th>\n",
       "      <td>give some thought</td>\n",
       "      <td>7</td>\n",
       "    </tr>\n",
       "    <tr>\n",
       "      <th>8004</th>\n",
       "      <td>share my thought</td>\n",
       "      <td>7</td>\n",
       "    </tr>\n",
       "    <tr>\n",
       "      <th>8005</th>\n",
       "      <td>become a president</td>\n",
       "      <td>7</td>\n",
       "    </tr>\n",
       "    <tr>\n",
       "      <th>8006</th>\n",
       "      <td>go to be the challenge</td>\n",
       "      <td>7</td>\n",
       "    </tr>\n",
       "  </tbody>\n",
       "</table>\n",
       "<p>8007 rows × 2 columns</p>\n",
       "</div>"
      ],
      "text/plain": [
       "                  PAT_V_NAME  FREQ\n",
       "0                   be a lot  2842\n",
       "1                 take place  1541\n",
       "2                 have a lot  1336\n",
       "3            develop country   839\n",
       "4                   do a lot   732\n",
       "...                      ...   ...\n",
       "8002          increase trust     7\n",
       "8003       give some thought     7\n",
       "8004        share my thought     7\n",
       "8005      become a president     7\n",
       "8006  go to be the challenge     7\n",
       "\n",
       "[8007 rows x 2 columns]"
      ]
     },
     "execution_count": 12,
     "metadata": {},
     "output_type": "execute_result"
    }
   ],
   "source": [
    "df03"
   ]
  },
  {
   "cell_type": "code",
   "execution_count": 13,
   "id": "a3e698ee-7cf5-4064-920a-2cf1dfaec467",
   "metadata": {},
   "outputs": [
    {
     "data": {
      "text/html": [
       "<div>\n",
       "<style scoped>\n",
       "    .dataframe tbody tr th:only-of-type {\n",
       "        vertical-align: middle;\n",
       "    }\n",
       "\n",
       "    .dataframe tbody tr th {\n",
       "        vertical-align: top;\n",
       "    }\n",
       "\n",
       "    .dataframe thead th {\n",
       "        text-align: right;\n",
       "    }\n",
       "</style>\n",
       "<table border=\"1\" class=\"dataframe\">\n",
       "  <thead>\n",
       "    <tr style=\"text-align: right;\">\n",
       "      <th></th>\n",
       "      <th>PAT_V_NAME</th>\n",
       "      <th>FREQ</th>\n",
       "    </tr>\n",
       "  </thead>\n",
       "  <tbody>\n",
       "    <tr>\n",
       "      <th>0</th>\n",
       "      <td>be a lot</td>\n",
       "      <td>2550</td>\n",
       "    </tr>\n",
       "    <tr>\n",
       "      <th>1</th>\n",
       "      <td>take place</td>\n",
       "      <td>1336</td>\n",
       "    </tr>\n",
       "    <tr>\n",
       "      <th>2</th>\n",
       "      <td>have a lot</td>\n",
       "      <td>1181</td>\n",
       "    </tr>\n",
       "    <tr>\n",
       "      <th>3</th>\n",
       "      <td>develop country</td>\n",
       "      <td>731</td>\n",
       "    </tr>\n",
       "    <tr>\n",
       "      <th>4</th>\n",
       "      <td>talk a little bit</td>\n",
       "      <td>650</td>\n",
       "    </tr>\n",
       "    <tr>\n",
       "      <th>...</th>\n",
       "      <td>...</td>\n",
       "      <td>...</td>\n",
       "    </tr>\n",
       "    <tr>\n",
       "      <th>6841</th>\n",
       "      <td>grow problem</td>\n",
       "      <td>7</td>\n",
       "    </tr>\n",
       "    <tr>\n",
       "      <th>6842</th>\n",
       "      <td>earn money</td>\n",
       "      <td>7</td>\n",
       "    </tr>\n",
       "    <tr>\n",
       "      <th>6843</th>\n",
       "      <td>set price</td>\n",
       "      <td>7</td>\n",
       "    </tr>\n",
       "    <tr>\n",
       "      <th>6844</th>\n",
       "      <td>make inroad</td>\n",
       "      <td>7</td>\n",
       "    </tr>\n",
       "    <tr>\n",
       "      <th>6845</th>\n",
       "      <td>be no future</td>\n",
       "      <td>7</td>\n",
       "    </tr>\n",
       "  </tbody>\n",
       "</table>\n",
       "<p>6846 rows × 2 columns</p>\n",
       "</div>"
      ],
      "text/plain": [
       "             PAT_V_NAME  FREQ\n",
       "0              be a lot  2550\n",
       "1            take place  1336\n",
       "2            have a lot  1181\n",
       "3       develop country   731\n",
       "4     talk a little bit   650\n",
       "...                 ...   ...\n",
       "6841       grow problem     7\n",
       "6842         earn money     7\n",
       "6843          set price     7\n",
       "6844        make inroad     7\n",
       "6845       be no future     7\n",
       "\n",
       "[6846 rows x 2 columns]"
      ]
     },
     "execution_count": 13,
     "metadata": {},
     "output_type": "execute_result"
    }
   ],
   "source": [
    "df04"
   ]
  },
  {
   "cell_type": "code",
   "execution_count": 14,
   "id": "d6c9041f-b616-4a6b-aa75-9e8537f09535",
   "metadata": {},
   "outputs": [
    {
     "name": "stdout",
     "output_type": "stream",
     "text": [
      "8009 7860 8007 6846\n"
     ]
    }
   ],
   "source": [
    "print(len(df01), len(df02), len(df03), len(df04))"
   ]
  },
  {
   "cell_type": "code",
   "execution_count": 27,
   "id": "a4f8f088-7e22-4754-ae82-b7d9ab386055",
   "metadata": {},
   "outputs": [],
   "source": [
    "df = pd.concat([df01, df02, df03, df04])"
   ]
  },
  {
   "cell_type": "code",
   "execution_count": 28,
   "id": "a80d99fe-b52f-4b24-a5c4-028e088ef46b",
   "metadata": {},
   "outputs": [],
   "source": [
    "df = df.reset_index(drop=True)"
   ]
  },
  {
   "cell_type": "code",
   "execution_count": 30,
   "id": "560fcc24-d71f-49d9-b8b0-a1290a981681",
   "metadata": {},
   "outputs": [],
   "source": [
    "df = df.groupby(['PAT_V_NAME'], as_index=False).agg({'FREQ': sum})"
   ]
  },
  {
   "cell_type": "code",
   "execution_count": 33,
   "id": "b8982bc0-3cfc-460f-ba4f-280460a9388e",
   "metadata": {},
   "outputs": [],
   "source": [
    "df = df.sort_values(['FREQ'], ascending=False).reset_index(drop=True)"
   ]
  },
  {
   "cell_type": "code",
   "execution_count": 37,
   "id": "2f4dc928-cd97-47e0-9d5b-43ab9843d551",
   "metadata": {},
   "outputs": [],
   "source": [
    "df_top_1000 = df[df['FREQ']>=100]"
   ]
  },
  {
   "cell_type": "code",
   "execution_count": 41,
   "id": "df0ba539-185a-48f8-bd91-44d7aab4ca5d",
   "metadata": {},
   "outputs": [],
   "source": [
    "df_top_2000 = df[df['FREQ']>=65]"
   ]
  },
  {
   "cell_type": "code",
   "execution_count": 47,
   "id": "03b59034-48b5-4870-bf71-64f606dd1f58",
   "metadata": {},
   "outputs": [],
   "source": [
    "df_top_4000 = df[df['FREQ']>=40]"
   ]
  },
  {
   "cell_type": "code",
   "execution_count": 48,
   "id": "1fd8c4cc-0232-424d-a379-9073853335c5",
   "metadata": {},
   "outputs": [],
   "source": [
    "#df_top_1000.to_pickle('TOP_1000_VERB_NOUN_PATTERNS_THINK_TANKS.pkl', protocol=4)"
   ]
  },
  {
   "cell_type": "code",
   "execution_count": 49,
   "id": "701e43c9-2a05-41be-bc67-03cabfd71a63",
   "metadata": {},
   "outputs": [],
   "source": [
    "#df_top_2000.to_pickle('TOP_2000_VERB_NOUN_PATTERNS_THINK_TANKS.pkl', protocol=4)"
   ]
  },
  {
   "cell_type": "code",
   "execution_count": 50,
   "id": "8a7a2736-6338-488f-a62b-8034614ac5f3",
   "metadata": {},
   "outputs": [],
   "source": [
    "#df_top_4000.to_pickle('TOP_4000_VERB_NOUN_PATTERNS_THINK_TANKS.pkl', protocol=4)"
   ]
  },
  {
   "cell_type": "code",
   "execution_count": 52,
   "id": "36475729-1a4b-46e1-b265-ae0111be4a26",
   "metadata": {},
   "outputs": [],
   "source": [
    "#del df01, df02, df03, df04"
   ]
  },
  {
   "cell_type": "code",
   "execution_count": 56,
   "id": "8e657a86-dbb1-44a3-a44b-459b35101de2",
   "metadata": {},
   "outputs": [
    {
     "data": {
      "text/html": [
       "<div>\n",
       "<style scoped>\n",
       "    .dataframe tbody tr th:only-of-type {\n",
       "        vertical-align: middle;\n",
       "    }\n",
       "\n",
       "    .dataframe tbody tr th {\n",
       "        vertical-align: top;\n",
       "    }\n",
       "\n",
       "    .dataframe thead th {\n",
       "        text-align: right;\n",
       "    }\n",
       "</style>\n",
       "<table border=\"1\" class=\"dataframe\">\n",
       "  <thead>\n",
       "    <tr style=\"text-align: right;\">\n",
       "      <th></th>\n",
       "      <th>PAT_V_NAME</th>\n",
       "      <th>FREQ</th>\n",
       "    </tr>\n",
       "  </thead>\n",
       "  <tbody>\n",
       "    <tr>\n",
       "      <th>1959</th>\n",
       "      <td>write a report</td>\n",
       "      <td>65</td>\n",
       "    </tr>\n",
       "    <tr>\n",
       "      <th>3388</th>\n",
       "      <td>ask the audience</td>\n",
       "      <td>43</td>\n",
       "    </tr>\n",
       "    <tr>\n",
       "      <th>411</th>\n",
       "      <td>know the fact</td>\n",
       "      <td>200</td>\n",
       "    </tr>\n",
       "    <tr>\n",
       "      <th>769</th>\n",
       "      <td>build confidence</td>\n",
       "      <td>130</td>\n",
       "    </tr>\n",
       "    <tr>\n",
       "      <th>933</th>\n",
       "      <td>spend the money</td>\n",
       "      <td>114</td>\n",
       "    </tr>\n",
       "  </tbody>\n",
       "</table>\n",
       "</div>"
      ],
      "text/plain": [
       "            PAT_V_NAME  FREQ\n",
       "1959    write a report    65\n",
       "3388  ask the audience    43\n",
       "411      know the fact   200\n",
       "769   build confidence   130\n",
       "933    spend the money   114"
      ]
     },
     "execution_count": 56,
     "metadata": {},
     "output_type": "execute_result"
    }
   ],
   "source": [
    "df_top_4000.sample(5)"
   ]
  },
  {
   "cell_type": "code",
   "execution_count": null,
   "id": "ace56f7e-af5a-4c86-89eb-b2b767c4f883",
   "metadata": {},
   "outputs": [],
   "source": []
  }
 ],
 "metadata": {
  "environment": {
   "kernel": "python3",
   "name": "common-cpu.m87",
   "type": "gcloud",
   "uri": "gcr.io/deeplearning-platform-release/base-cpu:m87"
  },
  "kernelspec": {
   "display_name": "Python 3",
   "language": "python",
   "name": "python3"
  },
  "language_info": {
   "codemirror_mode": {
    "name": "ipython",
    "version": 3
   },
   "file_extension": ".py",
   "mimetype": "text/x-python",
   "name": "python",
   "nbconvert_exporter": "python",
   "pygments_lexer": "ipython3",
   "version": "3.7.12"
  }
 },
 "nbformat": 4,
 "nbformat_minor": 5
}
